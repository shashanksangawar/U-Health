{
  "cells": [
    {
      "cell_type": "code",
      "execution_count": 1,
      "metadata": {
        "id": "VZM1a303UAgW"
      },
      "outputs": [],
      "source": [
        "# Libraries for Feature Engineering\n",
        "import seaborn as sns"
      ]
    },
    {
      "cell_type": "code",
      "execution_count": 2,
      "metadata": {
        "id": "AqiaeNB0MWt1"
      },
      "outputs": [],
      "source": [
        "# Libraries for Data Structures\n",
        "import pandas as pd\n",
        "import numpy as np"
      ]
    },
    {
      "cell_type": "code",
      "execution_count": 3,
      "metadata": {
        "id": "7h1D-rr0kKS2"
      },
      "outputs": [],
      "source": [
        "# Libraries for Creating Pipelines\n",
        "from sklearn.impute import SimpleImputer\n",
        "from sklearn.pipeline import make_pipeline"
      ]
    },
    {
      "cell_type": "code",
      "execution_count": 4,
      "metadata": {
        "id": "igc3lUD4QIsm"
      },
      "outputs": [],
      "source": [
        "# Libraries for Data Pre-processing and Processing\n",
        "import matplotlib.pyplot as plt\n",
        "%matplotlib inline\n",
        "from sklearn.model_selection import train_test_split,  GridSearchCV\n",
        "from sklearn.preprocessing import StandardScaler\n",
        "from imblearn.over_sampling import SMOTE"
      ]
    },
    {
      "cell_type": "code",
      "execution_count": 5,
      "metadata": {
        "id": "OzrxVgFrQRVv"
      },
      "outputs": [],
      "source": [
        "# Libraries For Model Formation\n",
        "from sklearn.svm import SVC\n",
        "from sklearn.ensemble import RandomForestClassifier, GradientBoostingClassifier\n",
        "# from sklearn.neural_network import MLPClassifier\n",
        "# from xgboost import XGBClassifier\n",
        "# from lightgbm import LGBMClassifier\n",
        "from sklearn.model_selection import train_test_split\n",
        "from sklearn.linear_model import LogisticRegression\n",
        "from sklearn import linear_model\n",
        "from sklearn.dummy import DummyClassifier\n",
        "from sklearn.metrics import accuracy_score\n",
        "from sklearn.ensemble import RandomForestClassifier\n",
        "from sklearn.linear_model import Perceptron\n",
        "from sklearn.linear_model import SGDClassifier\n",
        "from sklearn.tree import DecisionTreeClassifier\n",
        "from sklearn.neighbors import KNeighborsClassifier\n",
        "from sklearn.svm import SVC, LinearSVC\n",
        "from sklearn import linear_model\n",
        "# import xgboost as xgb\n",
        "# from xgboost import XGBClassifier\n",
        "from sklearn.cluster import KMeans\n",
        "# from lightgbm import LGBMClassifier\n",
        "from sklearn.tree import DecisionTreeClassifier\n",
        "from sklearn.metrics import roc_auc_score"
      ]
    },
    {
      "cell_type": "code",
      "execution_count": 6,
      "metadata": {
        "id": "8Boo8Qf_o2Y7"
      },
      "outputs": [],
      "source": [
        "# Libraries for Model Evaluation\n",
        "from sklearn.model_selection import  cross_val_score\n",
        "from sklearn.metrics import accuracy_score, classification_report\n"
      ]
    },
    {
      "cell_type": "markdown",
      "metadata": {
        "id": "NIaKLyg-e6nG"
      },
      "source": [
        "# Dataset Customisation"
      ]
    },
    {
      "cell_type": "code",
      "execution_count": 7,
      "metadata": {
        "colab": {
          "base_uri": "https://localhost:8080/"
        },
        "id": "vo5dUg8Re_Wq",
        "outputId": "fa26f378-a5aa-4bde-bc9a-a6ec15ef078b"
      },
      "outputs": [
        {
          "data": {
            "text/plain": [
              "(373, 15)"
            ]
          },
          "execution_count": 7,
          "metadata": {},
          "output_type": "execute_result"
        }
      ],
      "source": [
        "# Importing Dataset from csv file\n",
        "raw_data = pd.read_csv('../Datasets/alzheimers.csv')\n",
        "\n",
        "# Gives total no.of rows and columns\n",
        "raw_data.shape"
      ]
    },
    {
      "cell_type": "code",
      "execution_count": 8,
      "metadata": {
        "colab": {
          "base_uri": "https://localhost:8080/"
        },
        "id": "I0SH9x0qfICK",
        "outputId": "ebc65c55-1ff7-4fbb-b629-2df329fe7c23"
      },
      "outputs": [
        {
          "name": "stdout",
          "output_type": "stream",
          "text": [
            "<class 'pandas.core.frame.DataFrame'>\n",
            "RangeIndex: 373 entries, 0 to 372\n",
            "Data columns (total 15 columns):\n",
            " #   Column      Non-Null Count  Dtype  \n",
            "---  ------      --------------  -----  \n",
            " 0   Subject ID  373 non-null    object \n",
            " 1   MRI ID      373 non-null    object \n",
            " 2   Group       373 non-null    object \n",
            " 3   Visit       373 non-null    int64  \n",
            " 4   MR Delay    373 non-null    int64  \n",
            " 5   M/F         373 non-null    object \n",
            " 6   Hand        373 non-null    object \n",
            " 7   Age         373 non-null    int64  \n",
            " 8   EDUC        373 non-null    int64  \n",
            " 9   SES         354 non-null    float64\n",
            " 10  MMSE        371 non-null    float64\n",
            " 11  CDR         373 non-null    float64\n",
            " 12  eTIV        373 non-null    int64  \n",
            " 13  nWBV        373 non-null    float64\n",
            " 14  ASF         373 non-null    float64\n",
            "dtypes: float64(5), int64(5), object(5)\n",
            "memory usage: 43.8+ KB\n"
          ]
        }
      ],
      "source": [
        "raw_data.info()"
      ]
    },
    {
      "cell_type": "markdown",
      "metadata": {
        "id": "G0WV-JQtfdBW"
      },
      "source": [
        "## ***DataSet Columns Defination***\n",
        "\n",
        "```\n",
        "1. Subject ID: Unique identifier for each subject in the dataset.\n",
        "2. MRI ID: Unique identifier for each MRI scan.\n",
        "3. Group: Represents the group or condition of the subject (e.g., 'AD' for Alzheimer's Disease).\n",
        "4. Visit: Number indicating the visit sequence for a particular subject.\n",
        "5. MR Delay: Time delay between consecutive MRI scans for a subject.\n",
        "6. M/F: Gender of the subject (Male or Female).\n",
        "7. Hand: Handedness of the subject (e.g., 'R' for right-handed).\n",
        "8. Age: Age of the subject.\n",
        "9. EDUC: Years of education completed by the subject.\n",
        "10. SES: Socioeconomic status of the subject.\n",
        "11. MMSE: Mini-Mental State Examination score, a measure of cognitive function.\n",
        "12. CDR: Clinical Dementia Rating, a measure of dementia severity.\n",
        "13. eTIV: Estimated total intracranial volume.\n",
        "14. nWBV: Normalized whole brain volume.\n",
        "15. ASF: Atlas scaling factor, a measure related to brain size normalization.\n",
        "    \n",
        "```\n",
        "\n"
      ]
    },
    {
      "cell_type": "code",
      "execution_count": 9,
      "metadata": {
        "id": "ZN_BwJinhYfG"
      },
      "outputs": [],
      "source": [
        "new_column_names = ['Id','MRI_ID', 'Target_Variable', 'Visit_Counts', 'MRI_Scan_Delay','Gender', 'Dominant_Hand', 'Age', 'Education', 'Socioeconomic_Status', 'Mini_Mental_State_Examination', 'Clinical_Dementia_Rating', 'Estimated_Total_Intracranial_Volume', 'Normalize_Whole_Brain_Volume', 'Atlas_Scaling_Factor']\n",
        "raw_data.rename(columns={old_column_name: new_column_name for old_column_name, new_column_name in zip(raw_data.columns, new_column_names)}, inplace=True)"
      ]
    },
    {
      "cell_type": "markdown",
      "metadata": {
        "id": "UsL79ssQjGxE"
      },
      "source": [
        "# Feature Engineering"
      ]
    },
    {
      "cell_type": "markdown",
      "metadata": {
        "id": "VBdFZg5MjM0h"
      },
      "source": [
        "## Dropping Non-Required Featues"
      ]
    },
    {
      "cell_type": "code",
      "execution_count": 10,
      "metadata": {
        "id": "I6XEAteVjpAD"
      },
      "outputs": [],
      "source": [
        "raw_data.drop(['Id', 'MRI_ID','Gender', 'Dominant_Hand'], axis=1, inplace=True)"
      ]
    },
    {
      "cell_type": "markdown",
      "metadata": {
        "id": "sduSctvdrO9T"
      },
      "source": [
        "## Converting Category into Numerical Values"
      ]
    },
    {
      "cell_type": "code",
      "execution_count": 11,
      "metadata": {
        "colab": {
          "base_uri": "https://localhost:8080/"
        },
        "id": "gNuMh_mvshPu",
        "outputId": "eb89c234-2e8e-4499-ce1b-324b0e17232e"
      },
      "outputs": [
        {
          "data": {
            "text/plain": [
              "Target_Variable\n",
              "0    190\n",
              "1    183\n",
              "Name: count, dtype: int64"
            ]
          },
          "execution_count": 11,
          "metadata": {},
          "output_type": "execute_result"
        }
      ],
      "source": [
        "# Converting Target Variables to Binary Target Values\n",
        "raw_data.Target_Variable.replace(['Demented','Converted'], 1, inplace=True)\n",
        "raw_data.Target_Variable.replace('Nondemented', 0, inplace=True)\n",
        "raw_data['Target_Variable'].value_counts()"
      ]
    },
    {
      "cell_type": "code",
      "execution_count": 12,
      "metadata": {},
      "outputs": [
        {
          "name": "stdout",
          "output_type": "stream",
          "text": [
            "<class 'pandas.core.frame.DataFrame'>\n",
            "RangeIndex: 373 entries, 0 to 372\n",
            "Data columns (total 11 columns):\n",
            " #   Column                               Non-Null Count  Dtype  \n",
            "---  ------                               --------------  -----  \n",
            " 0   Target_Variable                      373 non-null    int64  \n",
            " 1   Visit_Counts                         373 non-null    int64  \n",
            " 2   MRI_Scan_Delay                       373 non-null    int64  \n",
            " 3   Age                                  373 non-null    int64  \n",
            " 4   Education                            373 non-null    int64  \n",
            " 5   Socioeconomic_Status                 354 non-null    float64\n",
            " 6   Mini_Mental_State_Examination        371 non-null    float64\n",
            " 7   Clinical_Dementia_Rating             373 non-null    float64\n",
            " 8   Estimated_Total_Intracranial_Volume  373 non-null    int64  \n",
            " 9   Normalize_Whole_Brain_Volume         373 non-null    float64\n",
            " 10  Atlas_Scaling_Factor                 373 non-null    float64\n",
            "dtypes: float64(5), int64(6)\n",
            "memory usage: 32.2 KB\n"
          ]
        }
      ],
      "source": [
        "raw_data.info()"
      ]
    },
    {
      "cell_type": "markdown",
      "metadata": {
        "id": "JglY1p4jtK6f"
      },
      "source": [
        "# Dataset Pre-Processing and Processing"
      ]
    },
    {
      "cell_type": "code",
      "execution_count": 13,
      "metadata": {
        "id": "7HK9PZRdtQJB"
      },
      "outputs": [],
      "source": [
        "# Separate labels and features\n",
        "X = raw_data.drop(['Target_Variable'], axis=1)\n",
        "y = raw_data['Target_Variable']\n",
        "\n",
        "\n",
        "# Feature scaling\n",
        "scaler = StandardScaler()\n",
        "X_scaled = scaler.fit_transform(X)\n",
        "\n",
        "# Impute missing values\n",
        "imputer = SimpleImputer(strategy='median')\n",
        "X_imputed = imputer.fit_transform(X_scaled)\n",
        "\n",
        "# Data Augmentation\n",
        "smote = SMOTE(random_state=42)\n",
        "X_imputed_smote, y_smote = smote.fit_resample(X_imputed, y)\n",
        "\n",
        "# Now, split the data into training and testing sets\n",
        "X_train, X_test, y_train, y_test = train_test_split(X_imputed_smote, y_smote, test_size=0.2, random_state=42)"
      ]
    },
    {
      "cell_type": "markdown",
      "metadata": {
        "id": "sjyc0N4StX70"
      },
      "source": [
        "# Model Formations"
      ]
    },
    {
      "cell_type": "code",
      "execution_count": 14,
      "metadata": {
        "colab": {
          "base_uri": "https://localhost:8080/"
        },
        "id": "OzQZ-IlKtaiG",
        "outputId": "7fef1f5b-a95b-4791-de8f-fad771796fb9"
      },
      "outputs": [
        {
          "name": "stdout",
          "output_type": "stream",
          "text": [
            "RandomForestClassifier(random_state=42) CV Accuracy: 95.07%\n",
            "-------------------------------------------------------\n",
            "RandomForestClassifier(random_state=42) Training Accuracy: 93.42%\n",
            "-------------------------------------------------------\n",
            "RandomForestClassifier(random_state=42) Classification Report:\n",
            "              precision    recall  f1-score   support\n",
            "\n",
            "           0       0.89      0.97      0.93        34\n",
            "           1       0.97      0.90      0.94        42\n",
            "\n",
            "    accuracy                           0.93        76\n",
            "   macro avg       0.93      0.94      0.93        76\n",
            "weighted avg       0.94      0.93      0.93        76\n",
            "\n",
            "-------------------------------------------------------\n"
          ]
        }
      ],
      "source": [
        "# Random Forest Classifier\n",
        "rf_model = RandomForestClassifier(random_state=42)\n",
        "rf_params = {'n_estimators': [50, 100, 200], 'max_depth': [None, 10, 20], 'min_samples_split': [2, 5, 10]}\n",
        "rf_grid = GridSearchCV(rf_model, rf_params, cv=5)\n",
        "rf_grid.fit(X_train, y_train)\n",
        "best_rf_model = rf_grid.best_estimator_\n",
        "\n",
        "cv_scores = cross_val_score(best_rf_model, X_train, y_train, cv=5)\n",
        "print(f\"{best_rf_model} CV Accuracy: {np.mean(cv_scores) * 100:.2f}%\")\n",
        "\n",
        "# Fit the model on the entire dataset\n",
        "best_rf_model.fit(X_train, y_train)\n",
        "y_pred = best_rf_model.predict(X_test)\n",
        "\n",
        "print(\"-------------------------------------------------------\")\n",
        "# Training accuracy\n",
        "accuracy = accuracy_score(y_test, y_pred)\n",
        "print(f\"{best_rf_model} Training Accuracy: {accuracy * 100:.2f}%\")\n",
        "print(\"-------------------------------------------------------\")\n",
        "\n",
        "# Classification report\n",
        "print(f\"{best_rf_model} Classification Report:\\n{classification_report(y_test, y_pred)}\")\n",
        "print(\"-------------------------------------------------------\")"
      ]
    },
    {
      "cell_type": "code",
      "execution_count": 15,
      "metadata": {},
      "outputs": [],
      "source": [
        "import pickle\n",
        "\n",
        "\n",
        "filename = \"alzheimer.sav\"\n",
        "pickle.dump(best_rf_model, open(filename, \"wb\"))"
      ]
    },
    {
      "cell_type": "code",
      "execution_count": 16,
      "metadata": {},
      "outputs": [
        {
          "data": {
            "text/html": [
              "<style>#sk-container-id-1 {color: black;}#sk-container-id-1 pre{padding: 0;}#sk-container-id-1 div.sk-toggleable {background-color: white;}#sk-container-id-1 label.sk-toggleable__label {cursor: pointer;display: block;width: 100%;margin-bottom: 0;padding: 0.3em;box-sizing: border-box;text-align: center;}#sk-container-id-1 label.sk-toggleable__label-arrow:before {content: \"▸\";float: left;margin-right: 0.25em;color: #696969;}#sk-container-id-1 label.sk-toggleable__label-arrow:hover:before {color: black;}#sk-container-id-1 div.sk-estimator:hover label.sk-toggleable__label-arrow:before {color: black;}#sk-container-id-1 div.sk-toggleable__content {max-height: 0;max-width: 0;overflow: hidden;text-align: left;background-color: #f0f8ff;}#sk-container-id-1 div.sk-toggleable__content pre {margin: 0.2em;color: black;border-radius: 0.25em;background-color: #f0f8ff;}#sk-container-id-1 input.sk-toggleable__control:checked~div.sk-toggleable__content {max-height: 200px;max-width: 100%;overflow: auto;}#sk-container-id-1 input.sk-toggleable__control:checked~label.sk-toggleable__label-arrow:before {content: \"▾\";}#sk-container-id-1 div.sk-estimator input.sk-toggleable__control:checked~label.sk-toggleable__label {background-color: #d4ebff;}#sk-container-id-1 div.sk-label input.sk-toggleable__control:checked~label.sk-toggleable__label {background-color: #d4ebff;}#sk-container-id-1 input.sk-hidden--visually {border: 0;clip: rect(1px 1px 1px 1px);clip: rect(1px, 1px, 1px, 1px);height: 1px;margin: -1px;overflow: hidden;padding: 0;position: absolute;width: 1px;}#sk-container-id-1 div.sk-estimator {font-family: monospace;background-color: #f0f8ff;border: 1px dotted black;border-radius: 0.25em;box-sizing: border-box;margin-bottom: 0.5em;}#sk-container-id-1 div.sk-estimator:hover {background-color: #d4ebff;}#sk-container-id-1 div.sk-parallel-item::after {content: \"\";width: 100%;border-bottom: 1px solid gray;flex-grow: 1;}#sk-container-id-1 div.sk-label:hover label.sk-toggleable__label {background-color: #d4ebff;}#sk-container-id-1 div.sk-serial::before {content: \"\";position: absolute;border-left: 1px solid gray;box-sizing: border-box;top: 0;bottom: 0;left: 50%;z-index: 0;}#sk-container-id-1 div.sk-serial {display: flex;flex-direction: column;align-items: center;background-color: white;padding-right: 0.2em;padding-left: 0.2em;position: relative;}#sk-container-id-1 div.sk-item {position: relative;z-index: 1;}#sk-container-id-1 div.sk-parallel {display: flex;align-items: stretch;justify-content: center;background-color: white;position: relative;}#sk-container-id-1 div.sk-item::before, #sk-container-id-1 div.sk-parallel-item::before {content: \"\";position: absolute;border-left: 1px solid gray;box-sizing: border-box;top: 0;bottom: 0;left: 50%;z-index: -1;}#sk-container-id-1 div.sk-parallel-item {display: flex;flex-direction: column;z-index: 1;position: relative;background-color: white;}#sk-container-id-1 div.sk-parallel-item:first-child::after {align-self: flex-end;width: 50%;}#sk-container-id-1 div.sk-parallel-item:last-child::after {align-self: flex-start;width: 50%;}#sk-container-id-1 div.sk-parallel-item:only-child::after {width: 0;}#sk-container-id-1 div.sk-dashed-wrapped {border: 1px dashed gray;margin: 0 0.4em 0.5em 0.4em;box-sizing: border-box;padding-bottom: 0.4em;background-color: white;}#sk-container-id-1 div.sk-label label {font-family: monospace;font-weight: bold;display: inline-block;line-height: 1.2em;}#sk-container-id-1 div.sk-label-container {text-align: center;}#sk-container-id-1 div.sk-container {/* jupyter's `normalize.less` sets `[hidden] { display: none; }` but bootstrap.min.css set `[hidden] { display: none !important; }` so we also need the `!important` here to be able to override the default hidden behavior on the sphinx rendered scikit-learn.org. See: https://github.com/scikit-learn/scikit-learn/issues/21755 */display: inline-block !important;position: relative;}#sk-container-id-1 div.sk-text-repr-fallback {display: none;}</style><div id=\"sk-container-id-1\" class=\"sk-top-container\"><div class=\"sk-text-repr-fallback\"><pre>RandomForestClassifier(random_state=42)</pre><b>In a Jupyter environment, please rerun this cell to show the HTML representation or trust the notebook. <br />On GitHub, the HTML representation is unable to render, please try loading this page with nbviewer.org.</b></div><div class=\"sk-container\" hidden><div class=\"sk-item\"><div class=\"sk-estimator sk-toggleable\"><input class=\"sk-toggleable__control sk-hidden--visually\" id=\"sk-estimator-id-1\" type=\"checkbox\" checked><label for=\"sk-estimator-id-1\" class=\"sk-toggleable__label sk-toggleable__label-arrow\">RandomForestClassifier</label><div class=\"sk-toggleable__content\"><pre>RandomForestClassifier(random_state=42)</pre></div></div></div></div></div>"
            ],
            "text/plain": [
              "RandomForestClassifier(random_state=42)"
            ]
          },
          "execution_count": 16,
          "metadata": {},
          "output_type": "execute_result"
        }
      ],
      "source": [
        "pickle.load(open(filename, \"rb\"))"
      ]
    },
    {
      "cell_type": "code",
      "execution_count": null,
      "metadata": {},
      "outputs": [],
      "source": []
    }
  ],
  "metadata": {
    "colab": {
      "provenance": []
    },
    "kernelspec": {
      "display_name": "Python 3.11.5 ('.venv': venv)",
      "language": "python",
      "name": "python3"
    },
    "language_info": {
      "codemirror_mode": {
        "name": "ipython",
        "version": 3
      },
      "file_extension": ".py",
      "mimetype": "text/x-python",
      "name": "python",
      "nbconvert_exporter": "python",
      "pygments_lexer": "ipython3",
      "version": "3.11.5"
    },
    "vscode": {
      "interpreter": {
        "hash": "17fc95209f0dfbcceebf97bdf2b42bc2b4f2f205566a856b4977bc0c6d94fbc0"
      }
    }
  },
  "nbformat": 4,
  "nbformat_minor": 0
}
