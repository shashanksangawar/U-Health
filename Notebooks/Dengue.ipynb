{
  "cells": [
    {
      "cell_type": "code",
      "execution_count": 19,
      "metadata": {
        "id": "AqiaeNB0MWt1"
      },
      "outputs": [],
      "source": [
        "# Libraries for Data Structures\n",
        "import pandas as pd\n",
        "import numpy as np"
      ]
    },
    {
      "cell_type": "code",
      "execution_count": 20,
      "metadata": {
        "id": "7h1D-rr0kKS2"
      },
      "outputs": [],
      "source": [
        "# Libraries for Creating Pipelines\n",
        "from sklearn.impute import SimpleImputer\n",
        "from sklearn.pipeline import make_pipeline"
      ]
    },
    {
      "cell_type": "code",
      "execution_count": 21,
      "metadata": {
        "id": "igc3lUD4QIsm"
      },
      "outputs": [],
      "source": [
        "# Libraries for Data Pre-processing and Processing\n",
        "import matplotlib.pyplot as plt\n",
        "%matplotlib inline\n",
        "from sklearn.model_selection import train_test_split,  GridSearchCV\n",
        "from sklearn.preprocessing import StandardScaler\n",
        "from imblearn.over_sampling import SMOTE\n",
        "from sklearn.model_selection import StratifiedShuffleSplit"
      ]
    },
    {
      "cell_type": "code",
      "execution_count": 22,
      "metadata": {
        "id": "OzrxVgFrQRVv"
      },
      "outputs": [],
      "source": [
        "# Libraries For Model Formation\n",
        "from sklearn.svm import SVC\n",
        "from sklearn.ensemble import RandomForestClassifier, GradientBoostingClassifier\n",
        "from sklearn.neural_network import MLPClassifier\n",
        "# from xgboost import XGBClassifier\n",
        "# from lightgbm import LGBMClassifier\n",
        "from sklearn.model_selection import train_test_split\n",
        "from sklearn.linear_model import LogisticRegression\n",
        "from sklearn import linear_model\n",
        "from sklearn.dummy import DummyClassifier\n",
        "from sklearn.metrics import accuracy_score\n",
        "from sklearn.ensemble import RandomForestClassifier\n",
        "from sklearn.linear_model import Perceptron\n",
        "from sklearn.linear_model import SGDClassifier\n",
        "from sklearn.tree import DecisionTreeClassifier\n",
        "from sklearn.neighbors import KNeighborsClassifier\n",
        "from sklearn.svm import SVC, LinearSVC\n",
        "from sklearn import linear_model\n",
        "# import xgboost as xgb\n",
        "# from xgboost import XGBClassifier\n",
        "# from sklearn.cluster import KMeans\n",
        "# from lightgbm import LGBMClassifier\n",
        "from sklearn.tree import DecisionTreeClassifier\n",
        "from sklearn.metrics import roc_auc_score"
      ]
    },
    {
      "cell_type": "code",
      "execution_count": 23,
      "metadata": {
        "id": "8Boo8Qf_o2Y7"
      },
      "outputs": [],
      "source": [
        "# Libraries for Model Evaluation\n",
        "from sklearn.model_selection import  cross_val_score\n",
        "from sklearn.metrics import accuracy_score, classification_report\n"
      ]
    },
    {
      "cell_type": "markdown",
      "metadata": {
        "id": "NIaKLyg-e6nG"
      },
      "source": [
        "# Dataset Customisation"
      ]
    },
    {
      "cell_type": "code",
      "execution_count": 24,
      "metadata": {
        "colab": {
          "base_uri": "https://localhost:8080/"
        },
        "id": "vo5dUg8Re_Wq",
        "outputId": "bbd40f0e-e65a-4c34-bca8-f775f577eee6"
      },
      "outputs": [
        {
          "data": {
            "text/plain": [
              "(980, 10)"
            ]
          },
          "execution_count": 24,
          "metadata": {},
          "output_type": "execute_result"
        }
      ],
      "source": [
        "# Importing Dataset from csv file\n",
        "raw_data = pd.read_csv('../Datasets/dengue.csv')\n",
        "\n",
        "# Gives total no.of rows and columns\n",
        "raw_data.shape"
      ]
    },
    {
      "cell_type": "code",
      "execution_count": 25,
      "metadata": {
        "colab": {
          "base_uri": "https://localhost:8080/"
        },
        "id": "I0SH9x0qfICK",
        "outputId": "e80b06c9-d0aa-4159-fbbe-184df7148ee9"
      },
      "outputs": [
        {
          "name": "stdout",
          "output_type": "stream",
          "text": [
            "<class 'pandas.core.frame.DataFrame'>\n",
            "RangeIndex: 980 entries, 0 to 979\n",
            "Data columns (total 10 columns):\n",
            " #   Column     Non-Null Count  Dtype \n",
            "---  ------     --------------  ----- \n",
            " 0   Gender     980 non-null    object\n",
            " 1   Age        980 non-null    int64 \n",
            " 2   NS1        980 non-null    int64 \n",
            " 3   IgG        980 non-null    int64 \n",
            " 4   IgM        980 non-null    int64 \n",
            " 5   Area       980 non-null    object\n",
            " 6   AreaType   980 non-null    object\n",
            " 7   HouseType  980 non-null    object\n",
            " 8   District   980 non-null    object\n",
            " 9   Outcome    980 non-null    int64 \n",
            "dtypes: int64(5), object(5)\n",
            "memory usage: 76.7+ KB\n"
          ]
        }
      ],
      "source": [
        "raw_data.info()"
      ]
    },
    {
      "cell_type": "markdown",
      "metadata": {
        "id": "G0WV-JQtfdBW"
      },
      "source": [
        "## ***DataSet Columns Defination***\n",
        "\n",
        "```\n",
        "1. Gender: Gender of the survey respondent.\n",
        "2. Age: Age of the survey respondent.\n",
        "3. NS1: NS1 test's data positive as 1 negative as 0.\n",
        "4. IgG: IgG data positive as 1 negative as 0.\n",
        "5. IgM: IgM data positive as 1 negative as 0.\n",
        "6. Area: The area within the Dhaka region where the respondent resides.\n",
        "7. Area Type: Classification of the area as \"Developed\" or \"Undeveloped.\"\n",
        "8. House Type: The type of housing in the area, e.g., \"Building,\" \"Tin-Shed,\" or \"Others.\"\n",
        "9. District: The specific district within Dhaka.\n",
        "10. Outcome: Outcome variable indicating the presence (1) or absence (0) of Dengue cases reported.\n",
        "    \n",
        "```\n",
        "\n"
      ]
    },
    {
      "cell_type": "markdown",
      "metadata": {
        "id": "UsL79ssQjGxE"
      },
      "source": [
        "# Feature Engineering"
      ]
    },
    {
      "cell_type": "markdown",
      "metadata": {
        "id": "VBdFZg5MjM0h"
      },
      "source": [
        "## Dropping Non-Required Featues"
      ]
    },
    {
      "cell_type": "code",
      "execution_count": 26,
      "metadata": {
        "colab": {
          "base_uri": "https://localhost:8080/"
        },
        "id": "I6XEAteVjpAD",
        "outputId": "52ec2e33-e97e-4772-cc13-47ff150f8594"
      },
      "outputs": [
        {
          "data": {
            "text/plain": [
              "AreaType\n",
              "Developed      492\n",
              "Undeveloped    488\n",
              "Name: count, dtype: int64"
            ]
          },
          "execution_count": 26,
          "metadata": {},
          "output_type": "execute_result"
        }
      ],
      "source": [
        "raw_data['AreaType'].value_counts()"
      ]
    },
    {
      "cell_type": "code",
      "execution_count": 27,
      "metadata": {
        "colab": {
          "base_uri": "https://localhost:8080/"
        },
        "id": "EOH-0cC4kaSC",
        "outputId": "a3db83a7-a2b7-41e2-f72b-f53126405349"
      },
      "outputs": [
        {
          "name": "stdout",
          "output_type": "stream",
          "text": [
            "<class 'pandas.core.frame.DataFrame'>\n",
            "RangeIndex: 980 entries, 0 to 979\n",
            "Data columns (total 10 columns):\n",
            " #   Column     Non-Null Count  Dtype \n",
            "---  ------     --------------  ----- \n",
            " 0   Gender     980 non-null    object\n",
            " 1   Age        980 non-null    int64 \n",
            " 2   NS1        980 non-null    int64 \n",
            " 3   IgG        980 non-null    int64 \n",
            " 4   IgM        980 non-null    int64 \n",
            " 5   Area       980 non-null    object\n",
            " 6   AreaType   980 non-null    object\n",
            " 7   HouseType  980 non-null    object\n",
            " 8   District   980 non-null    object\n",
            " 9   Outcome    980 non-null    int64 \n",
            "dtypes: int64(5), object(5)\n",
            "memory usage: 76.7+ KB\n"
          ]
        }
      ],
      "source": [
        "raw_data.info()"
      ]
    },
    {
      "cell_type": "markdown",
      "metadata": {
        "id": "sduSctvdrO9T"
      },
      "source": [
        "## Converting Category into Numerical Values"
      ]
    },
    {
      "cell_type": "code",
      "execution_count": 28,
      "metadata": {
        "colab": {
          "base_uri": "https://localhost:8080/"
        },
        "id": "gNuMh_mvshPu",
        "outputId": "b4e6fa1d-1463-4460-c6fa-8c9443be1a36"
      },
      "outputs": [
        {
          "data": {
            "text/plain": [
              "Outcome\n",
              "1    527\n",
              "0    453\n",
              "Name: count, dtype: int64"
            ]
          },
          "execution_count": 28,
          "metadata": {},
          "output_type": "execute_result"
        }
      ],
      "source": [
        "# Converting Categorical Values to String\n",
        "raw_data['Gender'] = pd.factorize(raw_data.Gender)[0]\n",
        "raw_data.drop(['Area', 'District', 'AreaType', 'HouseType'], axis=1, inplace=True)\n",
        "\n",
        "# raw_data = raw_data[top_corr_features]\n",
        "\n",
        "# Converting Target Variables to Binary Target Values\n",
        "raw_data['Outcome'].value_counts()"
      ]
    },
    {
      "cell_type": "code",
      "execution_count": 29,
      "metadata": {},
      "outputs": [
        {
          "name": "stdout",
          "output_type": "stream",
          "text": [
            "<class 'pandas.core.frame.DataFrame'>\n",
            "RangeIndex: 980 entries, 0 to 979\n",
            "Data columns (total 6 columns):\n",
            " #   Column   Non-Null Count  Dtype\n",
            "---  ------   --------------  -----\n",
            " 0   Gender   980 non-null    int64\n",
            " 1   Age      980 non-null    int64\n",
            " 2   NS1      980 non-null    int64\n",
            " 3   IgG      980 non-null    int64\n",
            " 4   IgM      980 non-null    int64\n",
            " 5   Outcome  980 non-null    int64\n",
            "dtypes: int64(6)\n",
            "memory usage: 46.1 KB\n"
          ]
        }
      ],
      "source": [
        "raw_data.info()"
      ]
    },
    {
      "cell_type": "markdown",
      "metadata": {
        "id": "JglY1p4jtK6f"
      },
      "source": [
        "# Dataset Pre-Processing and Processing"
      ]
    },
    {
      "cell_type": "code",
      "execution_count": 30,
      "metadata": {
        "id": "7HK9PZRdtQJB"
      },
      "outputs": [],
      "source": [
        "# Separate labels and features\n",
        "X = raw_data.drop(['Outcome'], axis=1)\n",
        "y = raw_data['Outcome']\n",
        "\n",
        "# Feature scaling\n",
        "scaler = StandardScaler()\n",
        "X_scaled = scaler.fit_transform(X)\n",
        "\n",
        "# Impute missing values\n",
        "imputer = SimpleImputer(strategy='most_frequent')\n",
        "X_imputed = imputer.fit_transform(X_scaled)\n",
        "\n",
        "# Data Augmentation\n",
        "smote = SMOTE(random_state=42)\n",
        "X_imputed_smote, y_smote = smote.fit_resample(X_imputed, y)\n",
        "\n",
        "# Now, use StratifiedShuffleSplit for splitting the data\n",
        "sss = StratifiedShuffleSplit(n_splits=5, test_size=0.4, random_state=42)\n",
        "\n",
        "# Split the data\n",
        "for train_index, test_index in sss.split(X_imputed_smote, y_smote):\n",
        "    X_train, X_test = X_imputed_smote[train_index], X_imputed_smote[test_index]\n",
        "    y_train, y_test = y_smote.iloc[train_index], y_smote.iloc[test_index]"
      ]
    },
    {
      "cell_type": "code",
      "execution_count": 31,
      "metadata": {},
      "outputs": [
        {
          "data": {
            "text/html": [
              "<div>\n",
              "<style scoped>\n",
              "    .dataframe tbody tr th:only-of-type {\n",
              "        vertical-align: middle;\n",
              "    }\n",
              "\n",
              "    .dataframe tbody tr th {\n",
              "        vertical-align: top;\n",
              "    }\n",
              "\n",
              "    .dataframe thead th {\n",
              "        text-align: right;\n",
              "    }\n",
              "</style>\n",
              "<table border=\"1\" class=\"dataframe\">\n",
              "  <thead>\n",
              "    <tr style=\"text-align: right;\">\n",
              "      <th></th>\n",
              "      <th>Gender</th>\n",
              "      <th>Age</th>\n",
              "      <th>NS1</th>\n",
              "      <th>IgG</th>\n",
              "      <th>IgM</th>\n",
              "    </tr>\n",
              "  </thead>\n",
              "  <tbody>\n",
              "    <tr>\n",
              "      <th>0</th>\n",
              "      <td>0</td>\n",
              "      <td>10</td>\n",
              "      <td>0</td>\n",
              "      <td>0</td>\n",
              "      <td>1</td>\n",
              "    </tr>\n",
              "    <tr>\n",
              "      <th>1</th>\n",
              "      <td>0</td>\n",
              "      <td>31</td>\n",
              "      <td>1</td>\n",
              "      <td>1</td>\n",
              "      <td>0</td>\n",
              "    </tr>\n",
              "    <tr>\n",
              "      <th>2</th>\n",
              "      <td>1</td>\n",
              "      <td>10</td>\n",
              "      <td>0</td>\n",
              "      <td>0</td>\n",
              "      <td>0</td>\n",
              "    </tr>\n",
              "    <tr>\n",
              "      <th>3</th>\n",
              "      <td>0</td>\n",
              "      <td>13</td>\n",
              "      <td>1</td>\n",
              "      <td>1</td>\n",
              "      <td>0</td>\n",
              "    </tr>\n",
              "    <tr>\n",
              "      <th>4</th>\n",
              "      <td>0</td>\n",
              "      <td>43</td>\n",
              "      <td>1</td>\n",
              "      <td>1</td>\n",
              "      <td>0</td>\n",
              "    </tr>\n",
              "    <tr>\n",
              "      <th>...</th>\n",
              "      <td>...</td>\n",
              "      <td>...</td>\n",
              "      <td>...</td>\n",
              "      <td>...</td>\n",
              "      <td>...</td>\n",
              "    </tr>\n",
              "    <tr>\n",
              "      <th>975</th>\n",
              "      <td>0</td>\n",
              "      <td>16</td>\n",
              "      <td>1</td>\n",
              "      <td>1</td>\n",
              "      <td>0</td>\n",
              "    </tr>\n",
              "    <tr>\n",
              "      <th>976</th>\n",
              "      <td>1</td>\n",
              "      <td>41</td>\n",
              "      <td>1</td>\n",
              "      <td>1</td>\n",
              "      <td>0</td>\n",
              "    </tr>\n",
              "    <tr>\n",
              "      <th>977</th>\n",
              "      <td>1</td>\n",
              "      <td>45</td>\n",
              "      <td>0</td>\n",
              "      <td>0</td>\n",
              "      <td>1</td>\n",
              "    </tr>\n",
              "    <tr>\n",
              "      <th>978</th>\n",
              "      <td>0</td>\n",
              "      <td>19</td>\n",
              "      <td>1</td>\n",
              "      <td>1</td>\n",
              "      <td>1</td>\n",
              "    </tr>\n",
              "    <tr>\n",
              "      <th>979</th>\n",
              "      <td>0</td>\n",
              "      <td>28</td>\n",
              "      <td>0</td>\n",
              "      <td>0</td>\n",
              "      <td>1</td>\n",
              "    </tr>\n",
              "  </tbody>\n",
              "</table>\n",
              "<p>980 rows × 5 columns</p>\n",
              "</div>"
            ],
            "text/plain": [
              "     Gender  Age  NS1  IgG  IgM\n",
              "0         0   10    0    0    1\n",
              "1         0   31    1    1    0\n",
              "2         1   10    0    0    0\n",
              "3         0   13    1    1    0\n",
              "4         0   43    1    1    0\n",
              "..      ...  ...  ...  ...  ...\n",
              "975       0   16    1    1    0\n",
              "976       1   41    1    1    0\n",
              "977       1   45    0    0    1\n",
              "978       0   19    1    1    1\n",
              "979       0   28    0    0    1\n",
              "\n",
              "[980 rows x 5 columns]"
            ]
          },
          "execution_count": 31,
          "metadata": {},
          "output_type": "execute_result"
        }
      ],
      "source": [
        "X"
      ]
    },
    {
      "cell_type": "markdown",
      "metadata": {
        "id": "sjyc0N4StX70"
      },
      "source": [
        "# Model Formations"
      ]
    },
    {
      "cell_type": "code",
      "execution_count": 32,
      "metadata": {
        "colab": {
          "base_uri": "https://localhost:8080/"
        },
        "id": "OzQZ-IlKtaiG",
        "outputId": "ed1af7a8-c5b8-4e3d-8e26-a1cf75ce2394"
      },
      "outputs": [
        {
          "name": "stdout",
          "output_type": "stream",
          "text": [
            "RandomForestClassifier(n_estimators=25, random_state=42) CV Accuracy: 100.00%\n",
            "-------------------------------------------------------\n",
            "RandomForestClassifier(n_estimators=25, random_state=42) Training Accuracy: 100.00%\n",
            "-------------------------------------------------------\n",
            "RandomForestClassifier(n_estimators=25, random_state=42) Classification Report:\n",
            "              precision    recall  f1-score   support\n",
            "\n",
            "           0       1.00      1.00      1.00       211\n",
            "           1       1.00      1.00      1.00       211\n",
            "\n",
            "    accuracy                           1.00       422\n",
            "   macro avg       1.00      1.00      1.00       422\n",
            "weighted avg       1.00      1.00      1.00       422\n",
            "\n",
            "-------------------------------------------------------\n"
          ]
        }
      ],
      "source": [
        "# Random Forest Classifier\n",
        "rf_model = RandomForestClassifier(random_state=42)\n",
        "rf_params = {'n_estimators': [25, 100, 200], 'max_depth': [None, 10, 20], 'min_samples_split': [2, 5, 10]}\n",
        "rf_grid = GridSearchCV(rf_model, rf_params, cv=5)\n",
        "rf_grid.fit(X_train, y_train)\n",
        "best_rf_model = rf_grid.best_estimator_\n",
        "\n",
        "cv_scores = cross_val_score(best_rf_model, X_train, y_train, cv=5)\n",
        "print(f\"{best_rf_model} CV Accuracy: {np.mean(cv_scores) * 100:.2f}%\")\n",
        "\n",
        "# Fit the model on the entire dataset\n",
        "best_rf_model.fit(X_train, y_train)\n",
        "y_pred = best_rf_model.predict(X_test)\n",
        "\n",
        "print(\"-------------------------------------------------------\")\n",
        "# Training accuracy\n",
        "accuracy = accuracy_score(y_test, y_pred)\n",
        "print(f\"{best_rf_model} Training Accuracy: {accuracy * 100:.2f}%\")\n",
        "print(\"-------------------------------------------------------\")\n",
        "\n",
        "# Classification report\n",
        "print(f\"{best_rf_model} Classification Report:\\n{classification_report(y_test, y_pred)}\")\n",
        "print(\"-------------------------------------------------------\")"
      ]
    },
    {
      "cell_type": "code",
      "execution_count": 33,
      "metadata": {},
      "outputs": [],
      "source": [
        "import pickle\n",
        "\n",
        "\n",
        "filename = \"Dengue.sav\"\n",
        "pickle.dump(best_rf_model, open(filename, \"wb\"))"
      ]
    }
  ],
  "metadata": {
    "colab": {
      "provenance": []
    },
    "kernelspec": {
      "display_name": "Python 3.11.5 ('.venv': venv)",
      "language": "python",
      "name": "python3"
    },
    "language_info": {
      "codemirror_mode": {
        "name": "ipython",
        "version": 3
      },
      "file_extension": ".py",
      "mimetype": "text/x-python",
      "name": "python",
      "nbconvert_exporter": "python",
      "pygments_lexer": "ipython3",
      "version": "3.11.5"
    },
    "vscode": {
      "interpreter": {
        "hash": "17fc95209f0dfbcceebf97bdf2b42bc2b4f2f205566a856b4977bc0c6d94fbc0"
      }
    }
  },
  "nbformat": 4,
  "nbformat_minor": 0
}
