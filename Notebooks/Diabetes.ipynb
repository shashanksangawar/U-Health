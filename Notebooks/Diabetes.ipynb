{
  "cells": [
    {
      "cell_type": "markdown",
      "metadata": {
        "id": "taetozHWUZDr"
      },
      "source": [
        "# Importing Required Libraries"
      ]
    },
    {
      "cell_type": "code",
      "execution_count": 1,
      "metadata": {
        "id": "fEK4VyHdU7zl"
      },
      "outputs": [],
      "source": [
        "# Libraries for Data Structures\n",
        "import pandas as pd\n",
        "import numpy as np"
      ]
    },
    {
      "cell_type": "code",
      "execution_count": 2,
      "metadata": {
        "id": "4vnicRlMU-B_"
      },
      "outputs": [],
      "source": [
        "# Libraries for Creating Pipelines\n",
        "from sklearn.impute import SimpleImputer\n",
        "from sklearn.pipeline import make_pipeline"
      ]
    },
    {
      "cell_type": "code",
      "execution_count": 3,
      "metadata": {
        "id": "dALI-GNKVANj"
      },
      "outputs": [],
      "source": [
        "# Libraries for Data Pre-processing and Processing\n",
        "import matplotlib.pyplot as plt\n",
        "%matplotlib inline\n",
        "from sklearn.model_selection import train_test_split,  GridSearchCV\n",
        "from sklearn.preprocessing import StandardScaler\n",
        "from imblearn.over_sampling import SMOTE"
      ]
    },
    {
      "cell_type": "code",
      "execution_count": 4,
      "metadata": {
        "id": "ZV8ODHUxVDRe"
      },
      "outputs": [],
      "source": [
        "# Libraries For Model Formation\n",
        "from sklearn.svm import SVC\n",
        "from sklearn.ensemble import RandomForestClassifier, GradientBoostingClassifier\n",
        "from sklearn.neural_network import MLPClassifier\n"
      ]
    },
    {
      "cell_type": "code",
      "execution_count": 5,
      "metadata": {
        "id": "OIJqVb9OVF1t"
      },
      "outputs": [],
      "source": [
        "# Libraries for Model Evaluation\n",
        "from sklearn.model_selection import  cross_val_score\n",
        "from sklearn.metrics import accuracy_score, classification_report"
      ]
    },
    {
      "cell_type": "markdown",
      "metadata": {
        "id": "3rTIktMMVKRz"
      },
      "source": [
        "# Dataset Customisation"
      ]
    },
    {
      "cell_type": "markdown",
      "metadata": {
        "id": "gVn-CTckgR_8"
      },
      "source": [
        "## Dataset Columns Defination\n",
        "\n",
        "\n",
        "\n",
        "```\n",
        "1. Pregnancies: Number of times pregnant.\n",
        "2. Glucose: Plasma glucose concentration a 2 hours in an oral glucose tolerance test.\n",
        "3. BloodPressure: Diastolic blood pressure (mm Hg).\n",
        "4. SkinThickness: Triceps skin fold thickness (mm).\n",
        "5. Insulin: 2-Hour serum insulin (mu U/ml).\n",
        "6. BMI: Body mass index (weight in kg/(height in m)^2).\n",
        "7. DiabetesPedigreeFunction: Diabetes pedigree function (a function that scores likelihood of diabetes based on family history).\n",
        "8. Age: Age in years.\n",
        "9. Outcome: Binary variable indicating whether the person has diabetes (1) or not (0).\n",
        "```\n",
        "\n"
      ]
    },
    {
      "cell_type": "code",
      "execution_count": 6,
      "metadata": {
        "colab": {
          "base_uri": "https://localhost:8080/"
        },
        "id": "wpPc322sVQL-",
        "outputId": "e7dd683f-be68-4c2c-9fcd-c4ae1d0a3bab"
      },
      "outputs": [
        {
          "data": {
            "text/plain": [
              "(768, 9)"
            ]
          },
          "execution_count": 6,
          "metadata": {},
          "output_type": "execute_result"
        }
      ],
      "source": [
        "# Importing Dataset from csv file\n",
        "raw_data = pd.read_csv('../Datasets/diabetes.csv')\n",
        "\n",
        "# Gives total no.of rows and columns\n",
        "raw_data.shape"
      ]
    },
    {
      "cell_type": "code",
      "execution_count": 7,
      "metadata": {
        "colab": {
          "base_uri": "https://localhost:8080/",
          "height": 206
        },
        "id": "fosK3SqvVpEN",
        "outputId": "863412ed-23a1-4ea8-84ee-046c16d254f2"
      },
      "outputs": [
        {
          "data": {
            "text/html": [
              "<div>\n",
              "<style scoped>\n",
              "    .dataframe tbody tr th:only-of-type {\n",
              "        vertical-align: middle;\n",
              "    }\n",
              "\n",
              "    .dataframe tbody tr th {\n",
              "        vertical-align: top;\n",
              "    }\n",
              "\n",
              "    .dataframe thead th {\n",
              "        text-align: right;\n",
              "    }\n",
              "</style>\n",
              "<table border=\"1\" class=\"dataframe\">\n",
              "  <thead>\n",
              "    <tr style=\"text-align: right;\">\n",
              "      <th></th>\n",
              "      <th>Pregnancies</th>\n",
              "      <th>Glucose</th>\n",
              "      <th>BloodPressure</th>\n",
              "      <th>SkinThickness</th>\n",
              "      <th>Insulin</th>\n",
              "      <th>BMI</th>\n",
              "      <th>DiabetesPedigreeFunction</th>\n",
              "      <th>Age</th>\n",
              "      <th>Outcome</th>\n",
              "    </tr>\n",
              "  </thead>\n",
              "  <tbody>\n",
              "    <tr>\n",
              "      <th>0</th>\n",
              "      <td>6</td>\n",
              "      <td>148</td>\n",
              "      <td>72</td>\n",
              "      <td>35</td>\n",
              "      <td>0</td>\n",
              "      <td>33.6</td>\n",
              "      <td>0.627</td>\n",
              "      <td>50</td>\n",
              "      <td>1</td>\n",
              "    </tr>\n",
              "    <tr>\n",
              "      <th>1</th>\n",
              "      <td>1</td>\n",
              "      <td>85</td>\n",
              "      <td>66</td>\n",
              "      <td>29</td>\n",
              "      <td>0</td>\n",
              "      <td>26.6</td>\n",
              "      <td>0.351</td>\n",
              "      <td>31</td>\n",
              "      <td>0</td>\n",
              "    </tr>\n",
              "    <tr>\n",
              "      <th>2</th>\n",
              "      <td>8</td>\n",
              "      <td>183</td>\n",
              "      <td>64</td>\n",
              "      <td>0</td>\n",
              "      <td>0</td>\n",
              "      <td>23.3</td>\n",
              "      <td>0.672</td>\n",
              "      <td>32</td>\n",
              "      <td>1</td>\n",
              "    </tr>\n",
              "    <tr>\n",
              "      <th>3</th>\n",
              "      <td>1</td>\n",
              "      <td>89</td>\n",
              "      <td>66</td>\n",
              "      <td>23</td>\n",
              "      <td>94</td>\n",
              "      <td>28.1</td>\n",
              "      <td>0.167</td>\n",
              "      <td>21</td>\n",
              "      <td>0</td>\n",
              "    </tr>\n",
              "    <tr>\n",
              "      <th>4</th>\n",
              "      <td>0</td>\n",
              "      <td>137</td>\n",
              "      <td>40</td>\n",
              "      <td>35</td>\n",
              "      <td>168</td>\n",
              "      <td>43.1</td>\n",
              "      <td>2.288</td>\n",
              "      <td>33</td>\n",
              "      <td>1</td>\n",
              "    </tr>\n",
              "  </tbody>\n",
              "</table>\n",
              "</div>"
            ],
            "text/plain": [
              "   Pregnancies  Glucose  BloodPressure  SkinThickness  Insulin   BMI  \\\n",
              "0            6      148             72             35        0  33.6   \n",
              "1            1       85             66             29        0  26.6   \n",
              "2            8      183             64              0        0  23.3   \n",
              "3            1       89             66             23       94  28.1   \n",
              "4            0      137             40             35      168  43.1   \n",
              "\n",
              "   DiabetesPedigreeFunction  Age  Outcome  \n",
              "0                     0.627   50        1  \n",
              "1                     0.351   31        0  \n",
              "2                     0.672   32        1  \n",
              "3                     0.167   21        0  \n",
              "4                     2.288   33        1  "
            ]
          },
          "execution_count": 7,
          "metadata": {},
          "output_type": "execute_result"
        }
      ],
      "source": [
        "raw_data.head()"
      ]
    },
    {
      "cell_type": "code",
      "execution_count": 11,
      "metadata": {
        "colab": {
          "base_uri": "https://localhost:8080/"
        },
        "id": "ERN5kkSNfMON",
        "outputId": "797f9d07-4c62-4a0e-beb8-a06814581638"
      },
      "outputs": [
        {
          "data": {
            "text/plain": [
              "DiabetesPedigreeFunction\n",
              "0.258    6\n",
              "0.254    6\n",
              "0.268    5\n",
              "0.207    5\n",
              "0.261    5\n",
              "        ..\n",
              "1.353    1\n",
              "0.655    1\n",
              "0.092    1\n",
              "0.926    1\n",
              "0.171    1\n",
              "Name: count, Length: 517, dtype: int64"
            ]
          },
          "execution_count": 11,
          "metadata": {},
          "output_type": "execute_result"
        }
      ],
      "source": [
        "raw_data.DiabetesPedigreeFunction.value_counts()"
      ]
    },
    {
      "cell_type": "markdown",
      "metadata": {
        "id": "-SRPcUc2Whh1"
      },
      "source": [
        "# Datasets Pre-Processing and Processing"
      ]
    },
    {
      "cell_type": "code",
      "execution_count": null,
      "metadata": {
        "id": "U-ZCviEeWNd9"
      },
      "outputs": [],
      "source": [
        "# Separate labels and features\n",
        "X = raw_data.drop(['Outcome'], axis=1)\n",
        "y = raw_data['Outcome']\n",
        "\n",
        "\n",
        "# Feature scaling\n",
        "scaler = StandardScaler()\n",
        "X_scaled = scaler.fit_transform(X)\n",
        "\n",
        "# Impute missing values\n",
        "imputer = SimpleImputer(strategy='median')\n",
        "X_imputed = imputer.fit_transform(X_scaled)\n",
        "\n",
        "# Data Augmentation\n",
        "smote = SMOTE(random_state=42)\n",
        "X_imputed_smote, y_smote = smote.fit_resample(X_imputed, y)\n",
        "\n",
        "# Now, split the data into training and testing sets\n",
        "X_train, X_test, y_train, y_test = train_test_split(X_imputed_smote, y_smote, test_size=0.2, random_state=42)"
      ]
    },
    {
      "cell_type": "markdown",
      "metadata": {
        "id": "vOQGs3RHWzEQ"
      },
      "source": [
        "# Model Trainings and Accuracy Evaluation"
      ]
    },
    {
      "cell_type": "code",
      "execution_count": null,
      "metadata": {
        "colab": {
          "base_uri": "https://localhost:8080/"
        },
        "id": "ZyUWHRZoWo4s",
        "outputId": "2ab02795-1a76-491f-c889-f76ca037e2ab"
      },
      "outputs": [],
      "source": [
        "# Random Forest Classifier\n",
        "rf_model = RandomForestClassifier(random_state=42)\n",
        "rf_params = {'n_estimators': [50, 100, 200], 'max_depth': [None, 10, 20], 'min_samples_split': [2, 5, 10]}\n",
        "rf_grid = GridSearchCV(rf_model, rf_params, cv=5)\n",
        "rf_grid.fit(X_train, y_train)\n",
        "best_rf_model = rf_grid.best_estimator_\n",
        "\n",
        "cv_scores = cross_val_score(best_rf_model, X_train, y_train, cv=5)\n",
        "print(f\"{best_rf_model} CV Accuracy: {np.mean(cv_scores) * 100:.2f}%\")\n",
        "\n",
        "# Fit the model on the entire dataset\n",
        "best_rf_model.fit(X_train, y_train)\n",
        "y_pred = best_rf_model.predict(X_test)\n",
        "\n",
        "print(\"-------------------------------------------------------\")\n",
        "# Training accuracy\n",
        "accuracy = accuracy_score(y_test, y_pred)\n",
        "print(f\"{best_rf_model} Training Accuracy: {accuracy * 100:.2f}%\")\n",
        "print(\"-------------------------------------------------------\")\n",
        "\n",
        "# Classification report\n",
        "print(f\"{best_rf_model} Classification Report:\\n{classification_report(y_test, y_pred)}\")\n",
        "print(\"-------------------------------------------------------\")"
      ]
    },
    {
      "cell_type": "code",
      "execution_count": null,
      "metadata": {},
      "outputs": [],
      "source": [
        "import pickle\n",
        "\n",
        "\n",
        "filename = \"diabetes.sav\"\n",
        "pickle.dump(best_rf_model, open(filename, \"wb\"))"
      ]
    }
  ],
  "metadata": {
    "colab": {
      "provenance": []
    },
    "kernelspec": {
      "display_name": "Python 3.11.5 ('.venv': venv)",
      "language": "python",
      "name": "python3"
    },
    "language_info": {
      "codemirror_mode": {
        "name": "ipython",
        "version": 3
      },
      "file_extension": ".py",
      "mimetype": "text/x-python",
      "name": "python",
      "nbconvert_exporter": "python",
      "pygments_lexer": "ipython3",
      "version": "3.11.5"
    },
    "vscode": {
      "interpreter": {
        "hash": "17fc95209f0dfbcceebf97bdf2b42bc2b4f2f205566a856b4977bc0c6d94fbc0"
      }
    }
  },
  "nbformat": 4,
  "nbformat_minor": 0
}
