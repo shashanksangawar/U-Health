{
  "cells": [
    {
      "cell_type": "markdown",
      "metadata": {
        "id": "e4ujN3dGMYKM"
      },
      "source": [
        "\n",
        "\n",
        "# Importing Required Libraries"
      ]
    },
    {
      "cell_type": "code",
      "execution_count": 1,
      "metadata": {
        "id": "VZM1a303UAgW"
      },
      "outputs": [],
      "source": [
        "# Libraries for Feature Engineering\n",
        "import seaborn as sns"
      ]
    },
    {
      "cell_type": "code",
      "execution_count": 2,
      "metadata": {
        "id": "AqiaeNB0MWt1"
      },
      "outputs": [],
      "source": [
        "# Libraries for Data Structures\n",
        "import pandas as pd\n",
        "import numpy as np"
      ]
    },
    {
      "cell_type": "code",
      "execution_count": 3,
      "metadata": {
        "id": "7h1D-rr0kKS2"
      },
      "outputs": [],
      "source": [
        "# Libraries for Creating Pipelines\n",
        "from sklearn.impute import SimpleImputer\n",
        "from sklearn.pipeline import make_pipeline"
      ]
    },
    {
      "cell_type": "code",
      "execution_count": 4,
      "metadata": {
        "id": "igc3lUD4QIsm"
      },
      "outputs": [],
      "source": [
        "# Libraries for Data Pre-processing and Processing\n",
        "import matplotlib.pyplot as plt\n",
        "%matplotlib inline\n",
        "from sklearn.model_selection import train_test_split,  GridSearchCV\n",
        "from sklearn.preprocessing import StandardScaler\n",
        "from imblearn.over_sampling import SMOTE"
      ]
    },
    {
      "cell_type": "code",
      "execution_count": 5,
      "metadata": {
        "id": "uilPlVAZQv79"
      },
      "outputs": [],
      "source": [
        "# Libraries For Model Formation\n",
        "from sklearn.svm import SVC\n",
        "from sklearn.ensemble import RandomForestClassifier, GradientBoostingClassifier\n",
        "from sklearn.neural_network import MLPClassifier\n"
      ]
    },
    {
      "cell_type": "code",
      "execution_count": 6,
      "metadata": {
        "id": "OzrxVgFrQRVv"
      },
      "outputs": [],
      "source": [
        "# Libraries for Model Evaluation\n",
        "from sklearn.model_selection import  cross_val_score\n",
        "from sklearn.metrics import accuracy_score, classification_report\n"
      ]
    },
    {
      "cell_type": "markdown",
      "metadata": {
        "id": "PIzJFQeWnKm4"
      },
      "source": [
        "# Dataset Customisation"
      ]
    },
    {
      "cell_type": "code",
      "execution_count": 7,
      "metadata": {
        "colab": {
          "base_uri": "https://localhost:8080/"
        },
        "id": "4PJn5ODtO0MZ",
        "outputId": "ac37a17a-8e9a-4f58-9754-be0556814b9a"
      },
      "outputs": [
        {
          "data": {
            "text/plain": [
              "(920, 16)"
            ]
          },
          "execution_count": 7,
          "metadata": {},
          "output_type": "execute_result"
        }
      ],
      "source": [
        "# Importing Dataset from csv file\n",
        "raw_data = pd.read_csv('../Datasets/heart_disease_uci.csv')\n",
        "\n",
        "# Gives total no.of rows and columns\n",
        "raw_data.shape"
      ]
    },
    {
      "cell_type": "markdown",
      "metadata": {
        "id": "LsdHs4zGSFQW"
      },
      "source": [
        "## ***DataSet Columns Defination***\n",
        "    1. id (Unique id for each patient)\n",
        "    2. age (Age of the patient in years)\n",
        "    3. origin (place of study)\n",
        "    4. sex (Male/Female)\n",
        "    5. cp chest pain type ([typical angina, atypical angina, non-anginal, asymptomatic])\n",
        "    6. trestbps resting blood pressure (resting blood pressure (in mm Hg on admission to the hospital))\n",
        "    7. chol (serum cholesterol in mg/dl)\n",
        "    8. fbs (if fasting blood sugar > 120 mg/dl)\n",
        "    9. restecg (resting electrocardiographic results)\n",
        "    -- Values: [normal, stt abnormality, lv hypertrophy]\n",
        "    10. thalach: maximum heart rate achieved\n",
        "    11. exang: exercise-induced angina (True/ False)\n",
        "    12. oldpeak: ST depression induced by exercise relative to rest\n",
        "    13. slope: the slope of the peak exercise ST segment\n",
        "    14. ca: number of major vessels (0-3) colored by fluoroscopy\n",
        "    15. thal: [normal; fixed defect; reversible defect]\n",
        "    16. num: the predicted attribute\n"
      ]
    },
    {
      "cell_type": "code",
      "execution_count": 8,
      "metadata": {},
      "outputs": [
        {
          "name": "stdout",
          "output_type": "stream",
          "text": [
            "<class 'pandas.core.frame.DataFrame'>\n",
            "RangeIndex: 920 entries, 0 to 919\n",
            "Data columns (total 16 columns):\n",
            " #   Column    Non-Null Count  Dtype  \n",
            "---  ------    --------------  -----  \n",
            " 0   id        920 non-null    int64  \n",
            " 1   age       920 non-null    int64  \n",
            " 2   sex       920 non-null    object \n",
            " 3   dataset   920 non-null    object \n",
            " 4   cp        920 non-null    object \n",
            " 5   trestbps  861 non-null    float64\n",
            " 6   chol      890 non-null    float64\n",
            " 7   fbs       830 non-null    object \n",
            " 8   restecg   918 non-null    object \n",
            " 9   thalch    865 non-null    float64\n",
            " 10  exang     865 non-null    object \n",
            " 11  oldpeak   858 non-null    float64\n",
            " 12  slope     611 non-null    object \n",
            " 13  ca        309 non-null    float64\n",
            " 14  thal      434 non-null    object \n",
            " 15  num       920 non-null    int64  \n",
            "dtypes: float64(5), int64(3), object(8)\n",
            "memory usage: 115.1+ KB\n"
          ]
        }
      ],
      "source": [
        "raw_data.info()"
      ]
    },
    {
      "cell_type": "code",
      "execution_count": 11,
      "metadata": {},
      "outputs": [
        {
          "data": {
            "text/plain": [
              "thal\n",
              "normal               196\n",
              "reversable defect    192\n",
              "fixed defect          46\n",
              "Name: count, dtype: int64"
            ]
          },
          "execution_count": 11,
          "metadata": {},
          "output_type": "execute_result"
        }
      ],
      "source": [
        "raw_data['thal'].value_counts()"
      ]
    },
    {
      "cell_type": "code",
      "execution_count": 12,
      "metadata": {
        "id": "XfpFFxz0W_m1"
      },
      "outputs": [],
      "source": [
        "new_column_names = ['Id', 'Age', 'Gender', 'Origin', 'Chest_Pain', 'Resting_Blood_Pressure', 'Cholestral', 'Fasting_Blood_Sugar',\n",
        "                    'Resting_ECG', 'Maximum_Heart_Rate_Achieved', 'Exercise_Induced_Angina','ST_Depression_Induced', 'Peak_Exercise_Slope',\n",
        "                    'No_of_Major_Vessels', 'Thalassemia', 'Target_Variable']\n",
        "raw_data.rename(columns={old_column_name: new_column_name for old_column_name, new_column_name in zip(raw_data.columns, new_column_names)}, inplace=True)"
      ]
    },
    {
      "cell_type": "markdown",
      "metadata": {
        "id": "I5xQIiWAyvfo"
      },
      "source": [
        "# Feature Engineering\n"
      ]
    },
    {
      "cell_type": "markdown",
      "metadata": {
        "id": "Wh6bIQ5Wy_pV"
      },
      "source": [
        "## Dropping Non-Required Featues"
      ]
    },
    {
      "cell_type": "code",
      "execution_count": 13,
      "metadata": {
        "id": "IWv3sU8izFwq"
      },
      "outputs": [],
      "source": [
        "raw_data.drop(['Id', 'Origin'], axis=1, inplace=True)"
      ]
    },
    {
      "cell_type": "markdown",
      "metadata": {
        "id": "sOTg08jtnd_r"
      },
      "source": [
        "## Converting Category into Numerical Values"
      ]
    },
    {
      "cell_type": "code",
      "execution_count": 14,
      "metadata": {
        "colab": {
          "base_uri": "https://localhost:8080/"
        },
        "id": "YC3uBusZlf3O",
        "outputId": "ede9f723-a4fd-4f26-ced4-856ec552e102"
      },
      "outputs": [
        {
          "data": {
            "text/plain": [
              "Target_Variable\n",
              "1    509\n",
              "0    411\n",
              "Name: count, dtype: int64"
            ]
          },
          "execution_count": 14,
          "metadata": {},
          "output_type": "execute_result"
        }
      ],
      "source": [
        "# Converting Categorical Values to String\n",
        "raw_data['Gender'] = pd.factorize(raw_data.Gender)[0]\n",
        "raw_data['Chest_Pain'] = pd.factorize(raw_data.Chest_Pain)[0]\n",
        "raw_data['Resting_ECG'] = pd.factorize(raw_data.Resting_ECG)[0]\n",
        "raw_data['Peak_Exercise_Slope'] = pd.factorize(raw_data.Peak_Exercise_Slope)[0]\n",
        "raw_data['Thalassemia'] = pd.factorize(raw_data.Thalassemia)[0]\n",
        "\n",
        "# Converting Target Variables to Binary Target Values\n",
        "raw_data.Target_Variable.replace([1,2,3,4], 1, inplace=True)\n",
        "raw_data['Target_Variable'].value_counts()"
      ]
    },
    {
      "cell_type": "code",
      "execution_count": 15,
      "metadata": {},
      "outputs": [
        {
          "data": {
            "text/plain": [
              "Thalassemia\n",
              "-1    486\n",
              " 1    196\n",
              " 2    192\n",
              " 0     46\n",
              "Name: count, dtype: int64"
            ]
          },
          "execution_count": 15,
          "metadata": {},
          "output_type": "execute_result"
        }
      ],
      "source": [
        "raw_data['Thalassemia'].value_counts()"
      ]
    },
    {
      "cell_type": "markdown",
      "metadata": {
        "id": "IZywjXEORASW"
      },
      "source": [
        "# Datasets Pre-processing and Processing\n"
      ]
    },
    {
      "cell_type": "markdown",
      "metadata": {
        "id": "zKSXfU8budOa"
      },
      "source": [
        "## ***DataSet Pre-Processing***"
      ]
    },
    {
      "cell_type": "markdown",
      "metadata": {
        "id": "G6TlSXrvuQME"
      },
      "source": [
        "## Dataset Processing(Train-Test Splitting)"
      ]
    },
    {
      "cell_type": "code",
      "execution_count": null,
      "metadata": {
        "id": "V-sU2HNLuw24"
      },
      "outputs": [],
      "source": [
        "# Separate labels and features\n",
        "X = raw_data.drop(['Target_Variable'], axis=1)\n",
        "y = raw_data['Target_Variable']\n",
        "\n",
        "\n",
        "# Feature scaling\n",
        "scaler = StandardScaler()\n",
        "X_scaled = scaler.fit_transform(X)\n",
        "\n",
        "# Impute missing values\n",
        "imputer = SimpleImputer(strategy='median')\n",
        "X_imputed = imputer.fit_transform(X_scaled)\n",
        "\n",
        "# Data Augmentation\n",
        "smote = SMOTE(random_state=42)\n",
        "X_imputed_smote, y_smote = smote.fit_resample(X_imputed, y)\n",
        "\n",
        "# Now, split the data into training and testing sets\n",
        "X_train, X_test, y_train, y_test = train_test_split(X_imputed_smote, y_smote, test_size=0.2, random_state=42)"
      ]
    },
    {
      "cell_type": "markdown",
      "metadata": {
        "id": "bcP00gxWqKH0"
      },
      "source": [
        "# Model Trainings\n"
      ]
    },
    {
      "cell_type": "markdown",
      "metadata": {
        "id": "vHl9259Zhlbv"
      },
      "source": [
        "## Testing Out Different Models layering on top of one another"
      ]
    },
    {
      "cell_type": "code",
      "execution_count": null,
      "metadata": {
        "colab": {
          "base_uri": "https://localhost:8080/"
        },
        "id": "j7OvAXFLPDQs",
        "outputId": "1f034db5-8175-40b3-9b0b-a1f13b62e601"
      },
      "outputs": [],
      "source": [
        "# Random Forest Classifier\n",
        "rf_model = RandomForestClassifier(random_state=42)\n",
        "rf_params = {'n_estimators': [50, 100, 200], 'max_depth': [None, 10, 20], 'min_samples_split': [2, 5, 10]}\n",
        "rf_grid = GridSearchCV(rf_model, rf_params, cv=5)\n",
        "rf_grid.fit(X_train, y_train)\n",
        "best_rf_model = rf_grid.best_estimator_\n",
        "\n",
        "cv_scores = cross_val_score(best_rf_model, X_train, y_train, cv=5)\n",
        "print(f\"{best_rf_model} CV Accuracy: {np.mean(cv_scores) * 100:.2f}%\")\n",
        "\n",
        "# Fit the model on the entire dataset\n",
        "best_rf_model.fit(X_train, y_train)\n",
        "y_pred = best_rf_model.predict(X_test)\n",
        "\n",
        "print(\"-------------------------------------------------------\")\n",
        "# Training accuracy\n",
        "accuracy = accuracy_score(y_test, y_pred)\n",
        "print(f\"{best_rf_model} Training Accuracy: {accuracy * 100:.2f}%\")\n",
        "print(\"-------------------------------------------------------\")\n",
        "\n",
        "# Classification report\n",
        "print(f\"{best_rf_model} Classification Report:\\n{classification_report(y_test, y_pred)}\")\n",
        "print(\"-------------------------------------------------------\")"
      ]
    },
    {
      "cell_type": "code",
      "execution_count": null,
      "metadata": {},
      "outputs": [],
      "source": [
        "# import pickle\n",
        "\n",
        "\n",
        "# filename = \"heart.sav\"\n",
        "# pickle.dump(best_rf_model, open(filename, \"wb\"))"
      ]
    }
  ],
  "metadata": {
    "colab": {
      "provenance": []
    },
    "kernelspec": {
      "display_name": "Python 3.11.5 ('.venv': venv)",
      "language": "python",
      "name": "python3"
    },
    "language_info": {
      "codemirror_mode": {
        "name": "ipython",
        "version": 3
      },
      "file_extension": ".py",
      "mimetype": "text/x-python",
      "name": "python",
      "nbconvert_exporter": "python",
      "pygments_lexer": "ipython3",
      "version": "3.11.5"
    },
    "vscode": {
      "interpreter": {
        "hash": "17fc95209f0dfbcceebf97bdf2b42bc2b4f2f205566a856b4977bc0c6d94fbc0"
      }
    }
  },
  "nbformat": 4,
  "nbformat_minor": 0
}
